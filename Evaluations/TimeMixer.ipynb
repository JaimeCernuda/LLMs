{
 "cells": [
  {
   "cell_type": "code",
   "id": "initial_id",
   "metadata": {
    "collapsed": true,
    "ExecuteTime": {
     "end_time": "2025-03-19T15:46:17.079137Z",
     "start_time": "2025-03-19T15:45:48.363783Z"
    }
   },
   "source": [
    "import os\n",
    "import pandas as pd\n",
    "import torch\n",
    "import tempfile\n",
    "from transformers import set_seed, Trainer, TrainingArguments\n",
    "from tsfm_public import TimeSeriesPreprocessor, get_datasets\n",
    "from tsfm_public.toolkit.get_model import get_model\n",
    "from tsfm_public.toolkit.visualization import plot_predictions\n",
    "import matplotlib.pyplot as plt\n",
    "import numpy as np"
   ],
   "outputs": [
    {
     "name": "stdout",
     "output_type": "stream",
     "text": [
      "WARNING:tensorflow:From D:\\Libraries\\Documents\\projects\\LLMs\\.venv\\Lib\\site-packages\\tf_keras\\src\\losses.py:2976: The name tf.losses.sparse_softmax_cross_entropy is deprecated. Please use tf.compat.v1.losses.sparse_softmax_cross_entropy instead.\n",
      "\n"
     ]
    }
   ],
   "execution_count": 1
  },
  {
   "metadata": {
    "ExecuteTime": {
     "end_time": "2025-03-19T15:47:47.405731Z",
     "start_time": "2025-03-19T15:47:47.395673Z"
    }
   },
   "cell_type": "code",
   "source": [
    "# Set seed for reproducibility\n",
    "SEED = 42\n",
    "set_seed(SEED)\n",
    "\n",
    "# Path to your dataset\n",
    "file_path = \"system_metrics_preprocessed.csv\""
   ],
   "id": "f1cfa5615abf60d0",
   "outputs": [],
   "execution_count": 5
  },
  {
   "metadata": {
    "ExecuteTime": {
     "end_time": "2025-03-19T15:48:25.539322Z",
     "start_time": "2025-03-19T15:48:25.448551Z"
    }
   },
   "cell_type": "code",
   "source": [
    "timestamp_column = \"timestamp\"\n",
    "features = [\"system_time\", \"chrony_last_offset\", \"chrony_frequency_drift_ppm\",\n",
    "            \"chrony_residual_freq_ppm\", \"chrony_skew\", \"cpu_temp\", \"cpu_freq\",\n",
    "            \"network_rtt\", \"power\", \"cpu_load\"]\n",
    "target = [\"chrony_system_time_offset\"]\n",
    "\n",
    "df = pd.read_csv(\n",
    "    file_path,\n",
    "    parse_dates=[timestamp_column],\n",
    ")\n",
    "\n",
    "# Drop NaN values\n",
    "df.dropna(subset=features + target, inplace=True)"
   ],
   "id": "c58f8a2512ad352c",
   "outputs": [],
   "execution_count": 7
  },
  {
   "metadata": {
    "ExecuteTime": {
     "end_time": "2025-03-19T15:50:05.674686Z",
     "start_time": "2025-03-19T15:50:05.669333Z"
    }
   },
   "cell_type": "code",
   "source": [
    "# Define Split Configuration (80% train, 10% valid, 10% test)\n",
    "train_size = int(len(df) * 0.8)\n",
    "valid_size = int(len(df) * 0.1)\n",
    "split_config = {\n",
    "    \"train\": [0, train_size],\n",
    "    \"valid\": [train_size, train_size + valid_size],\n",
    "    \"test\": [train_size + valid_size, len(df)],\n",
    "}\n",
    "\n",
    "# Column Specifications for Preprocessing\n",
    "column_specifiers = {\n",
    "    \"timestamp_column\": timestamp_column,\n",
    "    \"id_columns\": [],\n",
    "    \"target_columns\": target,\n",
    "    \"control_columns\": features,\n",
    "}"
   ],
   "id": "3927e4dc59c56a6c",
   "outputs": [],
   "execution_count": 8
  },
  {
   "metadata": {
    "ExecuteTime": {
     "end_time": "2025-03-19T15:50:51.429438Z",
     "start_time": "2025-03-19T15:50:51.424394Z"
    }
   },
   "cell_type": "code",
   "source": [
    "# Model Path (Use the IBM Granite TTM R2 Model)\n",
    "TTM_MODEL_PATH = \"ibm-granite/granite-timeseries-ttm-r2\"\n",
    "\n",
    "# Context and Prediction Lengths\n",
    "CONTEXT_LENGTH = 512\n",
    "PREDICTION_LENGTH = 10  # Adjustable"
   ],
   "id": "a653ac5044c60f37",
   "outputs": [],
   "execution_count": 9
  },
  {
   "metadata": {},
   "cell_type": "code",
   "outputs": [],
   "execution_count": null,
   "source": [
    "tsp = TimeSeriesPreprocessor(\n",
    "    **column_specifiers,\n",
    "    context_length=CONTEXT_LENGTH,\n",
    "    prediction_length=PREDICTION_LENGTH,\n",
    "    scaling=True,\n",
    "    encode_categorical=False,\n",
    "    scaler_type=\"standard\",\n",
    ")"
   ],
   "id": "61b00e31f75c1b32"
  },
  {
   "metadata": {},
   "cell_type": "code",
   "outputs": [],
   "execution_count": null,
   "source": [
    "zeroshot_model = get_model(\n",
    "    TTM_MODEL_PATH,\n",
    "    context_length=CONTEXT_LENGTH,\n",
    "    prediction_length=PREDICTION_LENGTH,\n",
    "    freq_prefix_tuning=False,\n",
    "    freq=None,\n",
    "    prefer_l1_loss=False,\n",
    "    prefer_longer_context=True,\n",
    ")\n"
   ],
   "id": "29209b53e1a9fc6c"
  },
  {
   "metadata": {},
   "cell_type": "code",
   "outputs": [],
   "execution_count": null,
   "source": [
    "dset_train, dset_valid, dset_test = get_datasets(\n",
    "    tsp, df, split_config, use_frequency_token=zeroshot_model.config.resolution_prefix_tuning\n",
    ")"
   ],
   "id": "5b99663d29ea684b"
  },
  {
   "metadata": {},
   "cell_type": "code",
   "outputs": [],
   "execution_count": null,
   "source": [
    "temp_dir = tempfile.mkdtemp()\n",
    "zeroshot_trainer = Trainer(\n",
    "    model=zeroshot_model,\n",
    "    args=TrainingArguments(\n",
    "        output_dir=temp_dir,\n",
    "        per_device_eval_batch_size=64,  # Batch size for evaluation\n",
    "        seed=SEED,\n",
    "        report_to=\"none\",\n",
    "    ),\n",
    ")"
   ],
   "id": "522b544074877fda"
  },
  {
   "metadata": {},
   "cell_type": "code",
   "outputs": [],
   "execution_count": null,
   "source": [
    "zeroshot_output = zeroshot_trainer.evaluate(dset_test)\n",
    "print(zeroshot_output)"
   ],
   "id": "3dccdef4bcba4d2a"
  }
 ],
 "metadata": {
  "kernelspec": {
   "display_name": "Python 3",
   "language": "python",
   "name": "python3"
  },
  "language_info": {
   "codemirror_mode": {
    "name": "ipython",
    "version": 2
   },
   "file_extension": ".py",
   "mimetype": "text/x-python",
   "name": "python",
   "nbconvert_exporter": "python",
   "pygments_lexer": "ipython2",
   "version": "2.7.6"
  }
 },
 "nbformat": 4,
 "nbformat_minor": 5
}
